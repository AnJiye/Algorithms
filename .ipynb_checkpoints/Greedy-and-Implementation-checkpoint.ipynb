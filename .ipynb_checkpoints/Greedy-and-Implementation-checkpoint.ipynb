{
 "cells": [
  {
   "cell_type": "markdown",
   "id": "477eeff0",
   "metadata": {},
   "source": [
    "## <span style=\"color:blue\">📌 그리디 알고리즘</span>\n",
    "- 그리디 알고리즘(탐욕법)은 **현재 상황에서 지금 당장 좋은 것만 고르는 방법**을 의미\n",
    "- 일반적인 그리디 알고리즘은 문제를 풀기 위한 최소한의 아이디어를 떠올릴 수 있는 능력을 요구 (크루스칼, 다익스트라 최단 경로와 같이 잘 알려진 알고리즘은 제외)\n",
    "- 그리디 해법은 그 정당성 분석이 중요\n",
    "    - 단순히 가장 좋아보이는 것을 반복적으로 선택해도 최적의 해를 구할 수 있는지 검토"
   ]
  },
  {
   "cell_type": "markdown",
   "id": "36d3e0da",
   "metadata": {},
   "source": [
    "- 일반적인 상황에서 그리디 알고리즘은 최적의 해를 보장할 수 없을 때가 많음\n",
    "- 하지만 코딩 테스트에서의 대부분의 그리디 문제는 **탐욕법으로 얻은 해가 최적의 해가 되는 상황에서, 이를 추론**할 수 있어야 풀리도록 출제"
   ]
  },
  {
   "cell_type": "markdown",
   "id": "c4ded397",
   "metadata": {},
   "source": [
    "### <span style=\"color:red\"> 💡 <문제> 거스름 돈: 문제 설명 </span>\n",
    "- 당신은 음식점의 계산을 도와주는 점원입니다. 카운터에는 거스름돈으로 사용할 500원, 100원, 50원, 10원짜리 동전이 무한히 존재한다고 가정합니다. 손님에게 거슬러 주어야 할 돈이 N원일 때 거슬러 주어야 할 동전의 최소 개수를 구하세요. 단, 거슬러 줘야 할 돈 N은 항상 10의 배수입니다."
   ]
  },
  {
   "cell_type": "markdown",
   "id": "6628620c",
   "metadata": {},
   "source": [
    "### 🤔 <문제> 거스름 돈: 문제 해결 아이디어\n",
    "- 최적의 해를 빠르게 구하기 위해서는 **가장 큰 화폐 단위부터** 돈을 거슬러 주면 됨\n",
    "- N원을 거슬러 줘야 할 때, 가장 먼저 500원으로 거슬러 줄 수 있을 만큼 거슬러 줌\n",
    "    - 이후에 100원, 50원, 10원짜리 동전을 차례대로 거슬러 줄 수 있을 만큼 거슬러 주면 됨"
   ]
  },
  {
   "cell_type": "markdown",
   "id": "4ce2c8df",
   "metadata": {},
   "source": [
    "### ⭐ 거스름 돈: 답안 예시 (python)"
   ]
  },
  {
   "cell_type": "code",
   "execution_count": 1,
   "id": "894d4694",
   "metadata": {},
   "outputs": [
    {
     "name": "stdout",
     "output_type": "stream",
     "text": [
      "6\n"
     ]
    }
   ],
   "source": [
    "n = 1260\n",
    "count = 0\n",
    "\n",
    "# 큰 단위의 화폐부터 차례대로 확인하기\n",
    "array = [500, 100, 50, 10]\n",
    "\n",
    "for coin in array:\n",
    "    count += n // coin # 해당 화폐로 거슬러 줄 수 있는 동전의 개수 세기\n",
    "    n %= coin\n",
    "\n",
    "print(count)"
   ]
  },
  {
   "cell_type": "markdown",
   "id": "f27f0eb9",
   "metadata": {},
   "source": [
    "- 가장 큰 화폐 단위부터 돈을 거슬러 주는 것이 최적의 해를 보장하는 이유는 무엇일까?\n",
    "    - 가지고 있는 동전 중에서 **큰 단위가 항상 작은 단위의 배수이므로 작은 단위의 동전들을 종합해 다른 해가 나올 수 없기 때문**\n",
    "- 만약에 800원을 거슬러 주어야 하는데 화폐 단위가 500원, 400원, 100원이라면?\n",
    "    - 큰 단위가 작은 단위의 배수가 아니기 때문에 그리디 알고리즘으로는 최적의 해 도출 ❌\n",
    "- 그리디 알고리즘 문제에서는 이처럼 문제 풀이를 위한 최소한의 아이디어를 떠올리고 이것이 정당한지 검토할 수 있어야 함!"
   ]
  },
  {
   "cell_type": "markdown",
   "id": "23472ce5",
   "metadata": {},
   "source": [
    "### 🕑 <문제> 거스름 돈: 시간 복잡도 분석\n",
    "- 화폐의 종류가 K라고 할 때, 소스코드의 시간 복잡도는 **$O(K)$**\n",
    "- 이 알고리즘의 시간 복잡도는 거슬러줘야 하는 금액과는 무관하며, 동전의 총 종류에만 영향을 받음"
   ]
  },
  {
   "cell_type": "markdown",
   "id": "fcb29e76",
   "metadata": {},
   "source": [
    "### ⭐ 거스름 돈: 답안 예시 (C++)"
   ]
  },
  {
   "cell_type": "code",
   "execution_count": 3,
   "id": "c8397754",
   "metadata": {},
   "outputs": [
    {
     "ename": "SyntaxError",
     "evalue": "invalid syntax (<ipython-input-3-2f72b965c359>, line 4)",
     "output_type": "error",
     "traceback": [
      "\u001b[1;36m  File \u001b[1;32m\"<ipython-input-3-2f72b965c359>\"\u001b[1;36m, line \u001b[1;32m4\u001b[0m\n\u001b[1;33m    using namespace std;\u001b[0m\n\u001b[1;37m          ^\u001b[0m\n\u001b[1;31mSyntaxError\u001b[0m\u001b[1;31m:\u001b[0m invalid syntax\n"
     ]
    }
   ],
   "source": [
    "#include <bits/stdc++.h>\n",
    "\n",
    "using namespace std;\n",
    "\n",
    "int n = 1260;\n",
    "int cnt; # 자동으로 0 값을 가지고 있음!\n",
    "\n",
    "int coinTypes[4] = {500, 100, 50, 10};\n",
    "\n",
    "int main(void) {\n",
    "    for (int i = 0 ; i < 4 ; i++) {\n",
    "        cnt += n / coinTypes[i];\n",
    "        n %= coinTypes[i];\n",
    "    }\n",
    "    cout << cnt << '\\n';\n",
    "}"
   ]
  },
  {
   "cell_type": "markdown",
   "id": "03e6d6e2",
   "metadata": {},
   "source": [
    "### ⭐ 거스름 돈: 답안 예시 (Java)"
   ]
  },
  {
   "cell_type": "code",
   "execution_count": 4,
   "id": "eca11d05",
   "metadata": {},
   "outputs": [
    {
     "ename": "SyntaxError",
     "evalue": "invalid syntax (<ipython-input-4-956754a10cf3>, line 3)",
     "output_type": "error",
     "traceback": [
      "\u001b[1;36m  File \u001b[1;32m\"<ipython-input-4-956754a10cf3>\"\u001b[1;36m, line \u001b[1;32m3\u001b[0m\n\u001b[1;33m    public class Main {\u001b[0m\n\u001b[1;37m           ^\u001b[0m\n\u001b[1;31mSyntaxError\u001b[0m\u001b[1;31m:\u001b[0m invalid syntax\n"
     ]
    }
   ],
   "source": [
    "public class Main {\n",
    "    public static void main(Stirng[] args) {\n",
    "        int n = 1260;\n",
    "        int cnt = 0;\n",
    "        int[] coinTypes = {500, 100, 50, 10};\n",
    "        \n",
    "        for (int i = 0 ; i < 4 ; i++) {\n",
    "            cnt += n / coinTypes[i];\n",
    "            n %= coinTypes[i];\n",
    "        }\n",
    "        \n",
    "        System.out.println(cnt);\n",
    "    }\n",
    "}"
   ]
  },
  {
   "cell_type": "markdown",
   "id": "4b1282a1",
   "metadata": {},
   "source": [
    "***\n",
    "### 💡 <span style=\"color:red\"><문제> 1이 될 때까지: 문제 설명</span>\n",
    "- 어떠한 수 **N이 1이 될 때까지** 다음의 두 과정 중 하나를 반복적으로 선택하여 수행하려고 합니다. 단, 두번째 연산은 N이 K로 나누어 떨어질 때만 선택할 수 있습니다.\n",
    "    1. N에서 1을 뺍니다.\n",
    "    2. N을 K로 나눕니다.\n",
    "- 예를 들어 N이 17, K가 4라고 가정합시다. 이때 1번의 과정을 한 번 수행하면 N은 16이 됩니다. 이후에 2번의 과정을 두 번 수행하면 N은 1이 됩니다. 결과적으로 이 경우 전체 과정을 실행한 횟수는 3이 됩니다. 이는 N을 1로 만드는 최소 횟수입니다.\n",
    "- N과 K가 주어질 때 N이 1이 될 때까지 1번 혹은 2번의 **과정을 수행해야 하는 최소 횟수**를 구하는 프로그램을 작성하세요."
   ]
  },
  {
   "cell_type": "markdown",
   "id": "55159344",
   "metadata": {},
   "source": [
    "- 난이도 : 下 / 풀이 시간 : 15분 / 시간제한 : 2초 / 메모리제한 : 128MB\n",
    "- `입력 조건` : 첫째 줄에 N(1 <= N <= 100,000)과 K(2 <= K <= 100,000)가 공백을 기준으로 하여 각각 자연수로 주어집니다.\n",
    "- `출력 조건` : 첫째 줄에 N이 1이 될 때까지 1번 혹은 2번의 과정을 수행해야 하는 횟수의 최솟값을 출력합니다."
   ]
  },
  {
   "cell_type": "markdown",
   "id": "98d138b7",
   "metadata": {},
   "source": [
    "- 주어진 N에 대하여 **최대한 많이 나누기**를 수행하면 됨\n",
    "- N의 값을 줄일 때 **2 이상의 수로 나누는 작업**이 **1을 빼는 작업보다** 수를 훨씬 많이 줄일 수 있음"
   ]
  },
  {
   "cell_type": "markdown",
   "id": "142c5fc6",
   "metadata": {},
   "source": [
    "### 🤔 <문제> 1이 될 때까지: 정당성 분석\n",
    "- **가능하면 최대한 많이 나누는 작업**이 최적의 해를 항상 보장할 수 있는가?\n",
    "- N이 아무리 큰 수여도, K로 계속 나눈다면 기하급수적으로 빠르게 줄일 수 있음\n",
    "- 다시 말해 K가 2 이상이기만 하면, K로 나누는 것이 1을 빼는 것보다 항상 빠르게 N을 줄일 수 있음\n",
    "    - 또한 N은 항상 1에 도달하게 됨 (최적의 해 성립)"
   ]
  },
  {
   "cell_type": "markdown",
   "id": "f1956a47",
   "metadata": {},
   "source": [
    "### ⭐ 직접 해보기!!"
   ]
  },
  {
   "cell_type": "code",
   "execution_count": 15,
   "id": "d1d35456",
   "metadata": {},
   "outputs": [
    {
     "name": "stdout",
     "output_type": "stream",
     "text": [
      "25 3\n",
      "6\n"
     ]
    }
   ],
   "source": [
    "n, k = map(int, input().split())\n",
    "cnt = 0\n",
    "\n",
    "while n != 1:\n",
    "    if (n % k == 0):\n",
    "        n //= k\n",
    "        cnt += 1\n",
    "    else:\n",
    "        n -= 1\n",
    "        cnt += 1\n",
    "\n",
    "print(cnt)"
   ]
  },
  {
   "cell_type": "markdown",
   "id": "2fdc618c",
   "metadata": {},
   "source": [
    "### ⭐ <문제> 1이 될 때까지: 답안 예시 (python)"
   ]
  },
  {
   "cell_type": "code",
   "execution_count": 11,
   "id": "175c0c61",
   "metadata": {},
   "outputs": [
    {
     "name": "stdout",
     "output_type": "stream",
     "text": [
      "25 3\n",
      "6\n"
     ]
    }
   ],
   "source": [
    "# N, K을 공백을 기준으로 구분하여 입력 받기\n",
    "n, k = map(int, input().split())\n",
    "\n",
    "result = 0\n",
    "\n",
    "while True:\n",
    "    # N이 K로 나누어 떨어지는 수가 될 때까지 빼기\n",
    "    target = (n // k) * k\n",
    "    result += (n - target)\n",
    "    n = target\n",
    "    # N이 K보다 작을 때 (더 이상 나눌 수 없을 때) 반복문 탈출\n",
    "    if n < k:\n",
    "        break\n",
    "    # K로 나누기\n",
    "    result += 1\n",
    "    n //= k\n",
    "\n",
    "# 마지막으로 남은 수에 대하여 1씩 빼기\n",
    "result += (n - 1)\n",
    "print(result)"
   ]
  },
  {
   "cell_type": "markdown",
   "id": "df32365a",
   "metadata": {},
   "source": [
    "👉 **코드가 훨씬 더 빨라짐!!** (while문을 돌때마다 k로 나누기 때문에) 지금은 수가 작아서 내가 한 것처럼 해도 되지만 수가 커지면 아래처럼 해야 함! 로그 시간 복잡도임!"
   ]
  },
  {
   "cell_type": "markdown",
   "id": "0a31102a",
   "metadata": {},
   "source": [
    "### ⭐ <문제> 1이 될 때까지: 답안 예시 (C++)"
   ]
  },
  {
   "cell_type": "code",
   "execution_count": 12,
   "id": "eec0aeea",
   "metadata": {},
   "outputs": [
    {
     "ename": "SyntaxError",
     "evalue": "invalid syntax (<ipython-input-12-7abf026f7f98>, line 5)",
     "output_type": "error",
     "traceback": [
      "\u001b[1;36m  File \u001b[1;32m\"<ipython-input-12-7abf026f7f98>\"\u001b[1;36m, line \u001b[1;32m5\u001b[0m\n\u001b[1;33m    using namespace std;\u001b[0m\n\u001b[1;37m          ^\u001b[0m\n\u001b[1;31mSyntaxError\u001b[0m\u001b[1;31m:\u001b[0m invalid syntax\n"
     ]
    }
   ],
   "source": [
    "#include <bits/stdc++.h>\n",
    "\n",
    "using namespace std;\n",
    "\n",
    "int n, k;\n",
    "int result;\n",
    "\n",
    "int main(void) {\n",
    "    cin >> n >> k;\n",
    "    while (true) {\n",
    "         # N이 K로 나누어 떨어지는 수가 될 때까지 빼기\n",
    "        target = (n / k) * k;\n",
    "        result += (n - target);\n",
    "        n = target;\n",
    "        # N이 K보다 작을 때 (더 이상 나눌 수 없을 때) 반복문 탈출\n",
    "        if n < k\n",
    "            break;\n",
    "        # K로 나누기\n",
    "        result++;\n",
    "        n /= k;\n",
    "    }\n",
    "    # 마지막으로 남은 수에 대하여 1씩 빼기\n",
    "    result += (n - 1);\n",
    "    cout << result << '\\n';\n",
    "}"
   ]
  },
  {
   "cell_type": "markdown",
   "id": "fa407d86",
   "metadata": {},
   "source": [
    "### ⭐ <문제> 1이 될 때까지: 답안 예시 (Java)"
   ]
  },
  {
   "cell_type": "code",
   "execution_count": null,
   "id": "c846f89e",
   "metadata": {},
   "outputs": [],
   "source": [
    "public class Main {\n",
    "    \n",
    "    public static void main(Stirng[] args) {\n",
    "        Scanner sc = new Scanner(System.in);\n",
    "        \n",
    "        # N, K을 공백을 기준으로 구분하여 입력 받기\n",
    "        int n = sc.nextInt();\n",
    "        int k = sc.nextInt();\n",
    "        int result = 0;\n",
    "        \n",
    "        while (true) {\n",
    "             # N이 K로 나누어 떨어지는 수가 될 때까지 빼기\n",
    "            target = (n / k) * k;\n",
    "            result += (n - target);\n",
    "            n = target;\n",
    "            # N이 K보다 작을 때 (더 이상 나눌 수 없을 때) 반복문 탈출\n",
    "            if n < k\n",
    "                break;\n",
    "            # K로 나누기\n",
    "            result++;\n",
    "            n /= k;\n",
    "        }\n",
    "        # 마지막으로 남은 수에 대하여 1씩 빼기\n",
    "        result += (n - 1);\n",
    "        System.out.println(result);\n",
    "    }\n",
    "}"
   ]
  },
  {
   "cell_type": "markdown",
   "id": "6625e9a1",
   "metadata": {},
   "source": [
    "***\n",
    "### 💡 <span style=\"color:red\"><문제> 곱하기 혹은 더하기: 문제 설명</span>\n",
    "- 각 자리가 숫자(0부터 9)로만 이루어진 문자열 S가 주어졌을 때, 왼쪽부터 오른쪽으로 하나씩 모든 숫자를 확인하며 숫자 사이에 'x' 혹은 '+' 연산자를 넣어 결과적으로 **만들어질 수 있는 가장 큰 수를 구하는 프로그램**을 작성하세요. 단, +보다 x를 먼저 계산하는 일반적인 방식과는 달리, **모든 연산은 왼쪽에서부터 순서대로** 이루어진다고 가정합니다.\n",
    "- 예를 들어 02984라는 문자열로 만들 수 있는 가장 큰 수는 ((((0 + 2) x 9) x 8) x4) = 576입니다. 또한 만들어질 수 있는 가장 큰 수는 항상 20억 이하의 정수가 되도록 입력이 주어집니다."
   ]
  },
  {
   "cell_type": "markdown",
   "id": "fd332c41",
   "metadata": {},
   "source": [
    "- 난이도 : 下 / 풀이 시간 : 30분 / 시간 제한 : 1초 / 메모리 제한 : 128MB / 기출 : Facebook 인터뷰\n",
    "- `입력 조건` : 첫째 줄에 여러 개의 숫자로 구성된 하나의 문자열 S가 주어집니다. (1 <= S의 길이 <= 20)\n",
    "- `출력 조건` : 첫째 줄에 만들어질 수 있는 가장 큰 수를 출력합니다."
   ]
  },
  {
   "cell_type": "markdown",
   "id": "a6d33269",
   "metadata": {},
   "source": [
    "### ⭐ 직접 해보기!!"
   ]
  },
  {
   "cell_type": "code",
   "execution_count": 8,
   "id": "6bddaa21",
   "metadata": {},
   "outputs": [
    {
     "name": "stdout",
     "output_type": "stream",
     "text": [
      "567\n",
      "210\n"
     ]
    }
   ],
   "source": [
    "s = str(input())\n",
    "result = int(s[0])\n",
    "\n",
    "for i in range(1, len(s)):\n",
    "    n = int(s[i])\n",
    "    if result == 0  or result == 1 or n == 0 or n == 1:\n",
    "        result += n\n",
    "    else:\n",
    "        result *= n\n",
    "\n",
    "print(result)"
   ]
  },
  {
   "cell_type": "markdown",
   "id": "f23ee2ee",
   "metadata": {},
   "source": [
    "### 🤔 <문제> 곱하기 혹은 더하기: 문제 해결 아이디어\n",
    "- 대부분의 경우 '+'보다는 'x'가 더 값을 크게 만듦\n",
    "    - 예를 들어 5 + 6 = 11이고, 5 x 6 = 30\n",
    "- 다만 두 수 중에서 하나라도 '0' 혹은 '1'인 경우, 곱하기보다는 더하기를 수행하는 것이 효율적\n",
    "- 따라서 **두 수에 대하여 연산을 수행할 때, 두 수 중에서 하나라도 1 이하인 경우에는 더하며, 두 수가 모두 2 이상인 경우에는 곱하면 정답** ❗"
   ]
  },
  {
   "cell_type": "markdown",
   "id": "aa9b0184",
   "metadata": {},
   "source": [
    "### ⭐ <문제> 곱하기 혹은 더하기: 답안 예시 (Python)"
   ]
  },
  {
   "cell_type": "code",
   "execution_count": 9,
   "id": "a613e2e7",
   "metadata": {},
   "outputs": [
    {
     "name": "stdout",
     "output_type": "stream",
     "text": [
      "02984\n",
      "576\n"
     ]
    }
   ],
   "source": [
    "data = input()\n",
    "\n",
    "# 첫 번째 문자를 숫자로 변경하여 대입\n",
    "result = int(data[0])\n",
    "\n",
    "for i in range(1, len(data)):\n",
    "    # 두 수 중에서 하나라도 '0' 혹은 '1'인 경우, 곱하기보다는 더하기 수행\n",
    "    num = int(data[i])\n",
    "    if num <= 1 or result <= 1:\n",
    "        result += num\n",
    "    else:\n",
    "        result *= num\n",
    "\n",
    "print(result)"
   ]
  },
  {
   "cell_type": "markdown",
   "id": "097a6618",
   "metadata": {},
   "source": [
    "### ⭐ <문제> 곱하기 혹은 더하기: 답안 예시 (C++)"
   ]
  },
  {
   "cell_type": "code",
   "execution_count": 10,
   "id": "c580790b",
   "metadata": {},
   "outputs": [
    {
     "ename": "SyntaxError",
     "evalue": "invalid syntax (<ipython-input-10-0e6b79519146>, line 3)",
     "output_type": "error",
     "traceback": [
      "\u001b[1;36m  File \u001b[1;32m\"<ipython-input-10-0e6b79519146>\"\u001b[1;36m, line \u001b[1;32m3\u001b[0m\n\u001b[1;33m    using namespace std;\u001b[0m\n\u001b[1;37m          ^\u001b[0m\n\u001b[1;31mSyntaxError\u001b[0m\u001b[1;31m:\u001b[0m invalid syntax\n"
     ]
    }
   ],
   "source": [
    "#include <bits/stdc++.h>\n",
    "\n",
    "using namespace std;\n",
    "\n",
    "string str;\n",
    "\n",
    "int main(void) {\n",
    "    cin >> str;\n",
    "    \n",
    "    long long result = str[0] - '0';\n",
    "    \n",
    "    for(int i = 1 ; i < str.size() ; i++) {\n",
    "        int num = str[i] - '0'\n",
    "        if(num <= 1 || result <= 1) result += num;\n",
    "        else result *= num;\n",
    "    }\n",
    "    \n",
    "    cout << result << '\\n';\n",
    "}"
   ]
  },
  {
   "cell_type": "markdown",
   "id": "8df54eaf",
   "metadata": {},
   "source": [
    "### ⭐ <문제> 곱하기 혹은 더하기: 답안 예시 (Java)"
   ]
  },
  {
   "cell_type": "code",
   "execution_count": 11,
   "id": "0c19a944",
   "metadata": {},
   "outputs": [
    {
     "ename": "SyntaxError",
     "evalue": "invalid syntax (<ipython-input-11-414badebcf98>, line 1)",
     "output_type": "error",
     "traceback": [
      "\u001b[1;36m  File \u001b[1;32m\"<ipython-input-11-414badebcf98>\"\u001b[1;36m, line \u001b[1;32m1\u001b[0m\n\u001b[1;33m    import java.util.*;\u001b[0m\n\u001b[1;37m                     ^\u001b[0m\n\u001b[1;31mSyntaxError\u001b[0m\u001b[1;31m:\u001b[0m invalid syntax\n"
     ]
    }
   ],
   "source": [
    "import java.util.*;\n",
    "\n",
    "public class Main {\n",
    "    public static void main(String[] args) {\n",
    "        Scanner sc = new Scanner(System.in);\n",
    "        String str = sc.next();\n",
    "        \n",
    "        long result = str.charAt(0) - '0';\n",
    "        for (int i = 1 ; i < str.length() ; i++) {\n",
    "            int num = str.charAt(1) - '0';\n",
    "            if (num <= 1 || result <= 1) {\n",
    "                result += num;\n",
    "            }\n",
    "            else {\n",
    "                result *= num;\n",
    "            }\n",
    "        }\n",
    "        System.out.println(result);\n",
    "    }\n",
    "}"
   ]
  },
  {
   "cell_type": "markdown",
   "id": "c6a8d754",
   "metadata": {},
   "source": [
    "***\n",
    "### 💡 <span style=\"color:red\"><문제> 모험가 길드: 문제 설명</span>\n",
    "- 한 마을에 모험가가 N명 있습니다. 모험가 길드에서는 N명의 모험가를 대상으로 '공포도'를 측정했는데, '공포도'가 높은 모험가는 쉽게 공포를 느껴 위험 상황에서 제대로 대처할 능력이 떨어집니다.\n",
    "- 모험가 길드장인 동빈이는 모험가 그룹을 안전하게 구성하고자 **공포도가 X인 모험가는 반드시 X명 이상으로 구성한 모험가 그룹에 참여**해야 여행을 떠날 수 있도록 규정했습니다.\n",
    "- 동빈이는 최대 몇 개의 모험가 그룹을 만들 수 있는지 궁금합니다. N명의 모험가에 대한 정보가 주어졌을 때, **여행을 떠날 수 있는 그룹 수의 최댓값**을 구하는 프로그램을 작성하세요."
   ]
  },
  {
   "cell_type": "markdown",
   "id": "27e3e9b8",
   "metadata": {},
   "source": [
    "- 예를 들어 N = 5이고, 각 모험가의 공포도가 다음과 같다고 가정합시다.\n",
    "> 2 3 1 2 2\n",
    "- 이 경우 그룹 1에 공포도가 1, 2, 3인 모험가를 한 명씩 넣고, 그룹 2에 공포도가 2인 남은 두 명을 넣게 되면 총 2개의 그룹을 만들 수 있습니다.\n",
    "- 또한 몇 명의 모험가는 마을에 그대로 남아 있어도 되기 때문에, 모든 모험가를 특정한 그룹에 넣을 필요는 없습니다."
   ]
  },
  {
   "cell_type": "markdown",
   "id": "6c84a361",
   "metadata": {},
   "source": [
    "- 난이도 : 下 / 풀이 시간 : 30분 / 시간 제한 : 1초 / 메모리 제한 :128MB / 기출 : 핵심 유형\n",
    "- `입력 조건`\n",
    "    - 첫째 줄에 모험가의 수 N이 주어집니다. (1 <= N <= 100,000)\n",
    "    - 둘째 줄에 각 모험가의 공포도의 값을 N 이하의 자연수로 주어지며, 각 자연수는 공백으로 구분합니다.\n",
    "- `출력 조건` : 여행을 떠날 수 있는 그룹 수의 최댓값을 출력합니다."
   ]
  },
  {
   "cell_type": "markdown",
   "id": "0337a0f4",
   "metadata": {},
   "source": [
    "### ⭐ 직접 해보기!!"
   ]
  },
  {
   "cell_type": "code",
   "execution_count": 12,
   "id": "06144224",
   "metadata": {},
   "outputs": [
    {
     "name": "stdout",
     "output_type": "stream",
     "text": [
      "1\n",
      "12\n"
     ]
    }
   ],
   "source": [
    "n = int(input())\n",
    "data = list(map(int, input().split()))\n"
   ]
  },
  {
   "cell_type": "markdown",
   "id": "f645d9d7",
   "metadata": {},
   "source": [
    "👉 잘 모르겠음..ㅠ"
   ]
  },
  {
   "cell_type": "markdown",
   "id": "97f00687",
   "metadata": {},
   "source": [
    "### 🤔 <문제> 모험가 길드: 문제 해결 아이디어\n",
    "- 오름차순 정렬 이후에 공포도가 가장 낮은 모험가부터 하나씩 확인\n",
    "- 앞에서부터 공포도를 하나씩 확인하며, **'현재 그룹에 포함된 모험가의 수'가 '현재 확인하고 있는 공포도'보다 크거나 같다면 이를 그룹으로 설정**\n",
    "- 이러한 방법을 이용하면 공포도가 오름차순으로 정렬되어 있다는 점에서, 항상 최소한의 모험가의 수만 포함하여 그룹을 결성하게 됨"
   ]
  },
  {
   "cell_type": "markdown",
   "id": "ffc80b05",
   "metadata": {},
   "source": [
    "### ⭐ <문제> 모험가 길드: 답안 예시 (Python)"
   ]
  },
  {
   "cell_type": "code",
   "execution_count": 13,
   "id": "1e94b603",
   "metadata": {},
   "outputs": [
    {
     "name": "stdout",
     "output_type": "stream",
     "text": [
      "5\n",
      "2 3 1 2 2\n",
      "2\n"
     ]
    }
   ],
   "source": [
    "n = int(input())\n",
    "data = list(map(int, input().split()))\n",
    "data.sort()\n",
    "\n",
    "result = 0 # 총 그룹의 수\n",
    "count = 0 # 현재 그룹에 포함된 모험가의 수\n",
    "\n",
    "for i in data: # 공포도를 낮은 것부터 하나씩 확인하며\n",
    "    count += 1 # 현재 그룹에 해당 모험가를 포함시키기\n",
    "    if count >= i: # 현재 그룹에 포함된 모험가의 수가 현재의 공포도 이상이라면, 그룹 결성\n",
    "        result += 1 # 총 그룹의 수 증가시키기\n",
    "        count = 0 # 현재 그룹에 포함된 모험가의 수 초기화\n",
    "        \n",
    "print(result) # 총 그룹의 수 출력"
   ]
  },
  {
   "cell_type": "markdown",
   "id": "a49a7b14",
   "metadata": {},
   "source": [
    "### ⭐ <문제> 모험가 길드: 답안 예시 (C++)"
   ]
  },
  {
   "cell_type": "code",
   "execution_count": 14,
   "id": "6f114ada",
   "metadata": {},
   "outputs": [
    {
     "ename": "SyntaxError",
     "evalue": "invalid syntax (<ipython-input-14-9d525453ba46>, line 3)",
     "output_type": "error",
     "traceback": [
      "\u001b[1;36m  File \u001b[1;32m\"<ipython-input-14-9d525453ba46>\"\u001b[1;36m, line \u001b[1;32m3\u001b[0m\n\u001b[1;33m    using namespace std;\u001b[0m\n\u001b[1;37m          ^\u001b[0m\n\u001b[1;31mSyntaxError\u001b[0m\u001b[1;31m:\u001b[0m invalid syntax\n"
     ]
    }
   ],
   "source": [
    "#include <bits/stdc++.h>\n",
    "\n",
    "using namespace std;\n",
    "\n",
    "int n;\n",
    "vector<int> arr;\n",
    "\n",
    "int main(void) {\n",
    "    cin >> n;\n",
    "    for (int i = 0 ; i < n ; i++) {\n",
    "        int x;\n",
    "        cin >> x;\n",
    "        arr.push_back(x);\n",
    "    }\n",
    "    sort(arr.begin(), arr.end());\n",
    "    \n",
    "    int result = 0;\n",
    "    int cnt = 0;\n",
    "    for (int i = 0 ; i < n ; i++) {\n",
    "        cnt += 1;\n",
    "        if (cnt >= arr[i]) {\n",
    "            result += 1;\n",
    "            cnt = 0;\n",
    "        }\n",
    "    }\n",
    "    cout << result << '\\n';\n",
    "}"
   ]
  },
  {
   "cell_type": "markdown",
   "id": "d1076528",
   "metadata": {},
   "source": [
    "### ⭐ <문제> 모험가 길드: 답안 예시 (Java)"
   ]
  },
  {
   "cell_type": "code",
   "execution_count": 15,
   "id": "7e1221a2",
   "metadata": {},
   "outputs": [
    {
     "ename": "SyntaxError",
     "evalue": "invalid syntax (<ipython-input-15-958bc168270b>, line 1)",
     "output_type": "error",
     "traceback": [
      "\u001b[1;36m  File \u001b[1;32m\"<ipython-input-15-958bc168270b>\"\u001b[1;36m, line \u001b[1;32m1\u001b[0m\n\u001b[1;33m    import java.util.*;\u001b[0m\n\u001b[1;37m                     ^\u001b[0m\n\u001b[1;31mSyntaxError\u001b[0m\u001b[1;31m:\u001b[0m invalid syntax\n"
     ]
    }
   ],
   "source": [
    "import java.util.*;\n",
    "\n",
    "public class Main {\n",
    "    public static int n;\n",
    "    public static ArrayList<Integer> arrayList = new ArrayList<>();\n",
    "    \n",
    "    public static void main(String[] args) {\n",
    "        Scanner sc = new Scanner(System.in);\n",
    "        n = sc.nextInt();\n",
    "        \n",
    "        for (int i = 0 ; i < n ; i++) {\n",
    "            arrayList.add(sc.nextInt());\n",
    "        }\n",
    "        Collections.sort(arrayList);\n",
    "        \n",
    "        int result = 0;\n",
    "        int cnt = 0;\n",
    "        for (int i = 0 ; i < n ; i++) {\n",
    "            cnt += 1;\n",
    "            if (cnt >= arrayList.get(i)) {\n",
    "                result += 1;\n",
    "                cnt = 0;\n",
    "            }\n",
    "        }\n",
    "        System.out.println(result);\n",
    "    }\n",
    "}"
   ]
  },
  {
   "cell_type": "markdown",
   "id": "8a3f00b8",
   "metadata": {},
   "source": [
    "***\n",
    "## 📌 <span style=\"color:blue\">구현: 시뮬레이션과 완전 탐색</span>"
   ]
  },
  {
   "cell_type": "markdown",
   "id": "6e67f1ab",
   "metadata": {},
   "source": [
    "### 💡 <span style=\"color:red\">구현</span>\n",
    "- 구현이란, **머릿속에 있는 알고리즘을 소스코드로 바꾸는 과정**"
   ]
  },
  {
   "cell_type": "markdown",
   "id": "19b5e351",
   "metadata": {},
   "source": [
    "- 흔히 알고리즘 대회에서 구현 유형의 문제란 무엇을 의미할까?\n",
    "    - **풀이를 떠올리는 것은 쉽지만 소스코드로 옮기기 어려운 문제**를 지칭\n",
    "- 구현 유형의 예시\n",
    "    - 알고리즘은 간단한데 코드가 지나칠 만큼 길어지는 문제\n",
    "    - 실수 연산을 다루고, 특정 소수점 자리까지 출력해야 하는 문제\n",
    "    - 문자열을 특정한 기준에 따라서 끊어 처리해야 하는 문제\n",
    "    - 적절한 라이브러리를 찾아서 사용해야 하는 문제"
   ]
  },
  {
   "cell_type": "markdown",
   "id": "6bf0cabb",
   "metadata": {},
   "source": [
    "- 일반적으로 알고리즘 문제에서의 2차원 공간은 **행렬(Matrix)**의 의미로 사용"
   ]
  },
  {
   "cell_type": "code",
   "execution_count": 16,
   "id": "b2140988",
   "metadata": {},
   "outputs": [
    {
     "name": "stdout",
     "output_type": "stream",
     "text": [
      "( 0 , 0 ) ( 0 , 1 ) ( 0 , 2 ) ( 0 , 3 ) ( 0 , 4 ) \n",
      "( 1 , 0 ) ( 1 , 1 ) ( 1 , 2 ) ( 1 , 3 ) ( 1 , 4 ) \n",
      "( 2 , 0 ) ( 2 , 1 ) ( 2 , 2 ) ( 2 , 3 ) ( 2 , 4 ) \n",
      "( 3 , 0 ) ( 3 , 1 ) ( 3 , 2 ) ( 3 , 3 ) ( 3 , 4 ) \n",
      "( 4 , 0 ) ( 4 , 1 ) ( 4 , 2 ) ( 4 , 3 ) ( 4 , 4 ) \n"
     ]
    }
   ],
   "source": [
    "for i in range(5):\n",
    "    for j in range(5):\n",
    "        print('(', i, ',', j, ')', end = ' ')\n",
    "    print()"
   ]
  },
  {
   "cell_type": "markdown",
   "id": "0c7631fb",
   "metadata": {},
   "source": [
    "- 시뮬레이션 및 완전 탐색 문제에서는 2차원 공간에서의 **방향 벡터**가 자주 활용"
   ]
  },
  {
   "cell_type": "code",
   "execution_count": 17,
   "id": "1c86d75d",
   "metadata": {},
   "outputs": [
    {
     "name": "stdout",
     "output_type": "stream",
     "text": [
      "2 3\n",
      "1 2\n",
      "2 1\n",
      "3 2\n"
     ]
    }
   ],
   "source": [
    "# 동, 북, 서, 남\n",
    "dx = [0, -1, 0, 1] # 행\n",
    "dy = [1, 0, -1, 0] # 열\n",
    "\n",
    "# 현재 위치\n",
    "x, y = 2, 2\n",
    "\n",
    "for i in range(4):\n",
    "    # 다음 위치\n",
    "    nx = x + dx[i]\n",
    "    ny = y + dy[i]\n",
    "    print(nx, ny)"
   ]
  },
  {
   "cell_type": "markdown",
   "id": "0d27ab55",
   "metadata": {},
   "source": [
    "### 💡 <span style=\"color:red\"><문제> 상하좌우: 문제 설명</span>\n",
    "- 여행가 A는 **N x N** 크기의 정사각형 공간 위에 서 있습니다. 이 공간은 1 x 1 크기의 정사각형으로 나누어져 있습니다. 가장 왼쪽 위 좌표는 (1, 1)이며, 가장 오른쪽 아래 좌표는 (N, N)에 해당합니다. 여행가 A는 **상, 하, 좌, 우 방향으로 이동**할 수 있으며, 시작 좌표는 항상 **(1,1)**입니다. 우리 앞에는 여행가 A가 이동할 계획이 적힌 계획서가 놓여 있습니다.\n",
    "- 계획서에는 하나의 줄에 띄어쓰기를 기준으로 하여 L, R, U, D 중 하나의 문자가 반복적으로 적혀 있습니다. 각 문자의 의미는 다음과 같습니다.\n",
    "    - L : 왼쪽으로 한 칸 이동\n",
    "    - R : 오른쪽으로 한 칸 이동\n",
    "    - U : 위로 한 칸 이동\n",
    "    - D : 아래로 한 칸 이동"
   ]
  },
  {
   "cell_type": "markdown",
   "id": "2d2a9d51",
   "metadata": {},
   "source": [
    "- 이때 여행가 A가 N x N 크기의 정사각형 공간을 벗어나는 움직임은 무시됩니다. 예를 들어 (1, 1)의 위치에서 L 혹은 U를 만나면 무시됩니다."
   ]
  },
  {
   "cell_type": "markdown",
   "id": "6ad4f81a",
   "metadata": {},
   "source": [
    "- 난이도 : 下 / 풀이 시간 : 15분 / 시간제한 : 2초 / 메모리 제한 : 128MB\n",
    "- `입력 조건`\n",
    "    - 첫째 줄에 공간의 크기를 나타내는 N이 주어집니다. (1 <= N <= 100)\n",
    "    - 둘째 줄에 여행가 A가 이동할 계획서 내용이 주어집니다. (1 <= 이동 횟수 <= 100)\n",
    "- `출력 조건` : 첫째 줄에 여행가 A가 최종적으로 도착할 지점의 좌표 (X, Y)를 공백을 기준으로 구분하여 출력합니다."
   ]
  },
  {
   "cell_type": "markdown",
   "id": "59a15961",
   "metadata": {},
   "source": [
    "### 💡 직접 해보기!!"
   ]
  },
  {
   "cell_type": "code",
   "execution_count": 27,
   "id": "289106eb",
   "metadata": {},
   "outputs": [
    {
     "name": "stdout",
     "output_type": "stream",
     "text": [
      "5\n",
      "R R R U D D\n",
      "3 4\n"
     ]
    }
   ],
   "source": [
    "n = int(input())\n",
    "data = list(map(str, input().split()))\n",
    "\n",
    "# L R U D\n",
    "dx = [0, 0, -1, 1]\n",
    "dy = [-1, 1, 0, 0]\n",
    "\n",
    "# 시작 위치\n",
    "x, y = 1, 1\n",
    "\n",
    "for i in range(n+1):\n",
    "    if data[i] == 'L':\n",
    "        nx = x + dx[0]\n",
    "        ny = y + dy[0]\n",
    "    elif data[i] == 'R':\n",
    "        nx = x + dx[1]\n",
    "        ny = y + dy[1]\n",
    "    elif data[i] == 'U':\n",
    "        nx = x + dx[2]\n",
    "        ny = y + dy[2]\n",
    "    else:\n",
    "        nx = x + dx[3]\n",
    "        ny = y + dy[3]\n",
    "    \n",
    "    if 1 <= nx <= n and 1 <= ny <= n:\n",
    "        x = nx\n",
    "        y = ny\n",
    "\n",
    "print(x, y)"
   ]
  },
  {
   "cell_type": "markdown",
   "id": "1040ae20",
   "metadata": {},
   "source": [
    "### 🤔 <문제> 상하좌우: 문제 해결 아이디어\n",
    "- 이 문제는 요구사항대로 충실히 구현하면 되는 문제\n",
    "- 일련의 명령에 따라서 개체를 차례대로 이동시킨다는 점에서 **시뮬레이션(Simulation) 유형**으로도 분류되며, 구현이 중요한 대표적인 문제 유형\n",
    "    - 다만, 알고리즘 교재나 문제 풀이 사이트에 따라서 다르게 일컬을 수 있으므로, 코딩 테스트에서의 시뮬레이션 유형, 구현 유형, 완전 탐색 유형은 서로 유사한 점이 많다는 정도로만 기억하자 ❗"
   ]
  },
  {
   "cell_type": "markdown",
   "id": "cd628646",
   "metadata": {},
   "source": [
    "### ⭐ <문제> 상하좌우: 답안 예시 (Python)"
   ]
  },
  {
   "cell_type": "code",
   "execution_count": 28,
   "id": "91b09e02",
   "metadata": {},
   "outputs": [
    {
     "name": "stdout",
     "output_type": "stream",
     "text": [
      "5\n",
      "R R R U D D\n",
      "3 4\n"
     ]
    }
   ],
   "source": [
    "# N 입력 받기\n",
    "n = int(input())\n",
    "x, y = 1, 1\n",
    "plans = input().split()\n",
    "\n",
    "# L, R, U, D에 따른 이동 방향\n",
    "dx = [0, 0, -1, 1]\n",
    "dy = [-1, 1, 0, 0]\n",
    "move_types = ['L', 'R', 'U', 'D']\n",
    "\n",
    "# 이동 계획을 하나씩 확인하기\n",
    "for plan in plans:\n",
    "    # 이동 후 좌표 구하기\n",
    "    for i in range(len(move_types)):\n",
    "        if plan == move_types[i]:\n",
    "            nx = x + dx[i]\n",
    "            ny = y + dy[i]\n",
    "    # 공간을 벗어나는 경우 무시\n",
    "    if nx < 1 or ny < 1 or nx > n or ny > n:\n",
    "        continue\n",
    "    # 이동 수행\n",
    "    x, y = nx, ny\n",
    "\n",
    "print(x, y)"
   ]
  },
  {
   "cell_type": "markdown",
   "id": "319f4765",
   "metadata": {},
   "source": [
    "### ⭐ <문제> 상하좌우: 답안 예시 (C++)"
   ]
  },
  {
   "cell_type": "code",
   "execution_count": 29,
   "id": "c42aa433",
   "metadata": {},
   "outputs": [
    {
     "ename": "SyntaxError",
     "evalue": "invalid syntax (<ipython-input-29-3e47693d5810>, line 3)",
     "output_type": "error",
     "traceback": [
      "\u001b[1;36m  File \u001b[1;32m\"<ipython-input-29-3e47693d5810>\"\u001b[1;36m, line \u001b[1;32m3\u001b[0m\n\u001b[1;33m    using namespace std;\u001b[0m\n\u001b[1;37m          ^\u001b[0m\n\u001b[1;31mSyntaxError\u001b[0m\u001b[1;31m:\u001b[0m invalid syntax\n"
     ]
    }
   ],
   "source": [
    "#include <bits/stdc++.h>\n",
    "\n",
    "using namespace std;\n",
    "\n",
    "int n;\n",
    "string plans;\n",
    "int x = 1, y = 1;\n",
    "\n",
    "int dx[4] = {0, 0, -1, 1};\n",
    "int dy[4] = {-1, 1, 0, 0};\n",
    "char moveTypes[4] = {'L', 'R', 'U', 'D'};\n",
    "\n",
    "int main(void) {\n",
    "    cin >> n;\n",
    "    cin.ignore(); // 버퍼 비우기 - 정수를 입력받고, 문자열을 입력받는 경우\n",
    "    getline(cin, plans);\n",
    "    \n",
    "    for (int i = 0 ; i < plans.size() ; i++) {\n",
    "        char plan = plans[i];\n",
    "        \n",
    "        int nx = -1, ny = -1;\n",
    "        \n",
    "        for(int j = 0 ; j < 4 ; j++) {\n",
    "            if (plan == moveTypes[j]) {\n",
    "                nx = x + dx[j];\n",
    "                ny = y + dy[j];\n",
    "            }\n",
    "        }\n",
    "        if (nx < 1 || ny < 1 || nx > n || ny > n) continue;\n",
    "        x = nx;\n",
    "        y = ny;\n",
    "    }\n",
    "    cout << x << ' ' << y << '\\n'\n",
    "    return 0;\n",
    "}"
   ]
  },
  {
   "cell_type": "markdown",
   "id": "1ca80ebe",
   "metadata": {},
   "source": [
    "***\n",
    "### 💡 <span style=\"color:red\"><문제> 시각: 문제 설명</span>\n",
    "- 정수 N이 입력되면 00시 00분 00초부터 N시 59분 59초까지의 **모든 시각 중에서 3이 하나라도 포함되는 모든 경우의 수를 구하는 프로그램을 작성**하세요. 예를 들어 1을 입력했을 때 다음은 3이 하나라도 포함되어 있으므로 **세어야 하는 시각**입니다.\n",
    "    - 00시 00분 03초\n",
    "    - 00시 13분 30초\n",
    "- 반면에 다음은 3이 하나도 포함되어 있지 않으므로 **세면 안 되는 시각**입니다.\n",
    "    - 00시 02분 55초\n",
    "    - 01시 27분 45초"
   ]
  },
  {
   "cell_type": "markdown",
   "id": "7bcc76dd",
   "metadata": {},
   "source": [
    "- 난이도 : 下 / 풀이 시간 : 15분 / 시간제한 : 2초 / 메모리 제한 : 128MB\n",
    "- `입력 조건` : 첫째 줄에 정수 N이 입력됩니다. (0 <= N <= 23)\n",
    "- `출력 조건` : 00시 00분 00초부터 N시 59분 59초까지의 모든 시각 중에서 3이 하나라도 포함되는 모든 경우의 수를 출력합니다."
   ]
  },
  {
   "cell_type": "markdown",
   "id": "02f8df9f",
   "metadata": {},
   "source": [
    "### ⭐ 직접 해보기!!"
   ]
  },
  {
   "cell_type": "code",
   "execution_count": 38,
   "id": "0ba9c100",
   "metadata": {},
   "outputs": [
    {
     "name": "stdout",
     "output_type": "stream",
     "text": [
      "5\n",
      "54930\n",
      "빠가사리..\n"
     ]
    }
   ],
   "source": [
    "n = int(input())\n",
    "cnt = 0\n",
    "\n",
    "for now in range(n+1):\n",
    "    if now == 3 or now == 13 or now == 33:\n",
    "        cnt+=60*60\n",
    "        continue\n",
    "    for m in range(60):\n",
    "        if m == 3 or m == 13 or m == 33:\n",
    "            cnt+=59\n",
    "            continue\n",
    "        for s in range(60):\n",
    "            if s == 3 or s == 30 or s == 33:\n",
    "                cnt+=59\n",
    "                \n",
    "print(cnt)\n",
    "print('빠가사리..')"
   ]
  },
  {
   "cell_type": "markdown",
   "id": "11d12a1b",
   "metadata": {},
   "source": [
    "### 🤔 <문제> 시각: 문제 해결 아이디어\n",
    "- 이 문제는 **가능한 모든 시각의 경우를 하나씩 모두 세서 풀 수 있는 문제**\n",
    "- 하루는 86,400초이므로, 00시 00분 00초부터 23시 59분 59초까지의 모든 경우는 86,400가지입니다.\n",
    "    - 24 * 60 * 60 = 86,400\n",
    "- 따라서 단순히 시각을 1씩 증가시키면서 3이 하나라도 포함되어 있는지를 확인하면 됩니다.\n",
    "- 이러한 유형은 **완전 탐색(Brute Forcing)** 문제 유형이라고 불립니다.\n",
    "    - **가능한 경우의 수를 모두 검사해보는 탐색 방법**을 의미"
   ]
  },
  {
   "cell_type": "markdown",
   "id": "a100cb96",
   "metadata": {},
   "source": [
    "### ⭐ <문제> 시각: 답안 예시 (Python)"
   ]
  },
  {
   "cell_type": "code",
   "execution_count": 36,
   "id": "3f66dd20",
   "metadata": {},
   "outputs": [
    {
     "name": "stdout",
     "output_type": "stream",
     "text": [
      "5\n",
      "11475\n"
     ]
    }
   ],
   "source": [
    "# H 입력 받기\n",
    "h = int(input())\n",
    "\n",
    "count = 0\n",
    "for i in range(h + 1):\n",
    "    for j in range(60):\n",
    "        for k in range(60):\n",
    "            # 매 시각 안에 '3'이 포함되어 있다면 카운트 증가\n",
    "            if '3' in str(i) + str(j) + str(k):\n",
    "                count += 1\n",
    "                \n",
    "print(count)"
   ]
  },
  {
   "cell_type": "markdown",
   "id": "f4b2a804",
   "metadata": {},
   "source": [
    "### ⭐ <문제> 시각: 답안 예시 (C++)"
   ]
  },
  {
   "cell_type": "code",
   "execution_count": 37,
   "id": "bc502b87",
   "metadata": {},
   "outputs": [
    {
     "ename": "SyntaxError",
     "evalue": "invalid syntax (<ipython-input-37-588f1683c412>, line 3)",
     "output_type": "error",
     "traceback": [
      "\u001b[1;36m  File \u001b[1;32m\"<ipython-input-37-588f1683c412>\"\u001b[1;36m, line \u001b[1;32m3\u001b[0m\n\u001b[1;33m    using namespace std;\u001b[0m\n\u001b[1;37m          ^\u001b[0m\n\u001b[1;31mSyntaxError\u001b[0m\u001b[1;31m:\u001b[0m invalid syntax\n"
     ]
    }
   ],
   "source": [
    "#include <bits/stdc++.h>\n",
    "\n",
    "using namespace std;\n",
    "\n",
    "int h, cnt;\n",
    "\n",
    "bool check(int h, int m, int s) {\n",
    "    if (h % 10 == 3 || m / 10 == 3 || m % 10 == 3 || s / 10 == 3 || s % 10 == 3)\n",
    "        return true;\n",
    "    return false;\n",
    "}\n",
    "\n",
    "int main(void) {\n",
    "    cin >> h;\n",
    "    for (int i = 0 ; i <= h ; i++) {\n",
    "        for (int j = 0 ; j < 60 ; j++) {\n",
    "            for (int k = 0 ; k < 60 ; k++) {\n",
    "                if (check(i, j, k)) cnt++;\n",
    "            }\n",
    "        }\n",
    "    }\n",
    "    cout << cnt << '\\n';\n",
    "    return 0;\n",
    "}"
   ]
  },
  {
   "cell_type": "markdown",
   "id": "46ff372e",
   "metadata": {},
   "source": [
    "### ⭐ <문제> 시각: 답안 예시 (Java)"
   ]
  },
  {
   "cell_type": "code",
   "execution_count": 39,
   "id": "e15feb87",
   "metadata": {},
   "outputs": [
    {
     "ename": "SyntaxError",
     "evalue": "invalid syntax (<ipython-input-39-4efd7535f903>, line 1)",
     "output_type": "error",
     "traceback": [
      "\u001b[1;36m  File \u001b[1;32m\"<ipython-input-39-4efd7535f903>\"\u001b[1;36m, line \u001b[1;32m1\u001b[0m\n\u001b[1;33m    import java.util.*;\u001b[0m\n\u001b[1;37m                     ^\u001b[0m\n\u001b[1;31mSyntaxError\u001b[0m\u001b[1;31m:\u001b[0m invalid syntax\n"
     ]
    }
   ],
   "source": [
    "import java.util.*;\n",
    "\n",
    "public class Main {\n",
    "    public static boolean check(int h, int m, int s) {\n",
    "        if (h % 10 == 3 || m / 10 == 3 || m % 10 == 3 || s / 10 == 3 || s % 10 == 3)\n",
    "            return true;\n",
    "        return false;\n",
    "    }\n",
    "    \n",
    "    public static void main(String[] args) {\n",
    "        Scanner sc = new Scanner(System.in);\n",
    "        \n",
    "        int h = sc.nextInt();\n",
    "        int cnt = 0;\n",
    "        for (int i = 0 ; i <= h ; i++) {\n",
    "            for (int j = 0 ; j < 60 ; j++) {\n",
    "                for (int k = 0 ; k < 60 ; k++) {\n",
    "                    if (check(i, j, k)) cnt++;\n",
    "                }\n",
    "            }\n",
    "        }\n",
    "        System.out.println(cnt);\n",
    "    }\n",
    "}"
   ]
  },
  {
   "cell_type": "markdown",
   "id": "ad3b8227",
   "metadata": {},
   "source": [
    "***\n",
    "### 💡 <span style=\"color:red\"><문제> 왕실의 나이트: 문제 설명</span>\n",
    "- 행복 왕국의 왕실 정원은 체스판과 같은 **8 x 8 좌표 평면**입니다. 왕실 정원의 특정한 한 칸에 나이트가 서 있습니다. 나이트는 매우 충성스러운 신하로서 매일 무술을 연마합니다.\n",
    "- 나이트는 말을 타고 있기 때문에 이동을 할 때는 L자 형태로만 이동할 수 있으며 정원 밖으로는 나갈 수 없습니다.\n",
    "- 나이트는 특정 위치에서 다음과 같은 2가지 경우로 이동할 수 있습니다.\n",
    "    1. 수평으로 두 칸 이동한 뒤에 수직으로 한 칸 이동하기\n",
    "    2. 수직으로 두 칸 이동한 뒤에 수평으로 한 칸 이동하기"
   ]
  },
  {
   "cell_type": "markdown",
   "id": "bb4a0925",
   "metadata": {},
   "source": [
    "- 이처럼 8 x 8 좌표 평면상에서 나이트의 위치가 주어졌을 때 나이트가 이동할 수 있는 경우의 수를 출력하는 프로그램을 작성하세요. 왕실의 정원에서 행 위치를 표현할 때는 1부터 8로 표현하며, 열 위치를 표현할 때는 a부터 h로 표현합니다."
   ]
  },
  {
   "cell_type": "markdown",
   "id": "9528e91d",
   "metadata": {},
   "source": [
    "- 난이도 : 下 / 풀이 시간 : 20분 / 시간 제한 : 1초 / 메모리 제한 : 128MB\n",
    "- `입력 조건` : 첫째 줄에 8 x 8 좌표 평면상에서 현재 나이트가 위치한 곳의 좌표를 나타내는 두 문자로 구성된 문자열이 입력된다. 입력 문자는 a1처럼 열과 행으로 이뤄진다.\n",
    "- `출력 조건` : 첫째 줄에 나이트가 이동할 수 있는 경우의 수를 출력하시오."
   ]
  },
  {
   "cell_type": "markdown",
   "id": "820eeb83",
   "metadata": {},
   "source": [
    "### ⭐ 직접 해보기!!"
   ]
  },
  {
   "cell_type": "code",
   "execution_count": 45,
   "id": "fed650a1",
   "metadata": {},
   "outputs": [
    {
     "name": "stdout",
     "output_type": "stream",
     "text": [
      "a1\n",
      "2\n"
     ]
    }
   ],
   "source": [
    "location = input()\n",
    "x = int(location[1])\n",
    "y = ord(location[0]) - 96\n",
    "\n",
    "dx = [-2, -2, -1, -1, 1, 1, 2, 2]\n",
    "dy = [-1, 1, 2, -2, 2, -2, 1, -1]\n",
    "\n",
    "count = 0\n",
    "for i in range(8):\n",
    "    nx = x + dx[i]\n",
    "    ny = y + dy[i]\n",
    "    if nx < 1 or ny < 1 or nx > 8 or ny > 8:\n",
    "        continue\n",
    "    count += 1\n",
    "\n",
    "print(count)"
   ]
  },
  {
   "cell_type": "markdown",
   "id": "c648c71d",
   "metadata": {},
   "source": [
    "### 🤔 <문제> 왕실의 나이트: 문제 해결 아이디어\n",
    "- 요구사항대로 충실히 구현하면 되는 문제\n",
    "- 나이트의 8가지 경로를 하나씩 확인하며 각 위치로 이동이 가능한지 확인\n",
    "    - 리스트를 이용하여 8가지 방향에 대한 방향 벡터를 정의"
   ]
  },
  {
   "cell_type": "markdown",
   "id": "ce07d83c",
   "metadata": {},
   "source": [
    "### ⭐ <문제> 왕실의 나이트: 답안 예시 (Python)\n"
   ]
  },
  {
   "cell_type": "code",
   "execution_count": 48,
   "id": "15323a02",
   "metadata": {},
   "outputs": [
    {
     "name": "stdout",
     "output_type": "stream",
     "text": [
      "c2\n",
      "6\n"
     ]
    }
   ],
   "source": [
    "# 현재 나이트의 위치 입력받기\n",
    "input_data = input()\n",
    "row = int(input_data[1])\n",
    "column = int(ord(input_data[0])) - int(ord('a')) + 1\n",
    "\n",
    "# 나이트가 이동할 수 있는 8가지 방향 정의\n",
    "steps = [(-2, -1), (-1, -2), (1, -2), (2, -1), (2, 1), (1, 2), (-1, 2), (-2, 1)]\n",
    "\n",
    "# 8가지 방향에 대하여 각 위치로 이동이 가능한지 확인\n",
    "result = 0\n",
    "for step in steps:\n",
    "    # 이동하고자 하는 위치 확인\n",
    "    next_row = row + step[0]\n",
    "    next_column = column + step[1]\n",
    "    # 해당 위치로 이동이 가능하다면 카운트 증가\n",
    "    if next_row >= 1 and next_row <= 8 and next_column >= 1 and next_column <= 8:\n",
    "        result += 1\n",
    "\n",
    "print(result)"
   ]
  },
  {
   "cell_type": "markdown",
   "id": "21e688f0",
   "metadata": {},
   "source": [
    "### ⭐ <문제> 왕실의 나이트: 답안 예시 (C++)\n"
   ]
  },
  {
   "cell_type": "code",
   "execution_count": 49,
   "id": "2ad2d9ea",
   "metadata": {},
   "outputs": [
    {
     "ename": "SyntaxError",
     "evalue": "invalid syntax (<ipython-input-49-f12c73383247>, line 3)",
     "output_type": "error",
     "traceback": [
      "\u001b[1;36m  File \u001b[1;32m\"<ipython-input-49-f12c73383247>\"\u001b[1;36m, line \u001b[1;32m3\u001b[0m\n\u001b[1;33m    using namespace std;\u001b[0m\n\u001b[1;37m          ^\u001b[0m\n\u001b[1;31mSyntaxError\u001b[0m\u001b[1;31m:\u001b[0m invalid syntax\n"
     ]
    }
   ],
   "source": [
    "#include <bits/stdc++.h>\n",
    "\n",
    "using namespace std;\n",
    "\n",
    "string inputData;\n",
    "\n",
    "int dx[] = {-2, -2, -1, -1, 1, 1, 2, 2};\n",
    "int dy[] = {-1, 1, 2, -2, 2, -2, 1, -1};\n",
    "\n",
    "int main(void) {\n",
    "    cin >> inputData;\n",
    "    int row = inputData[1] - '0'\n",
    "    int column = inputData[0] - 'a' + 1;\n",
    "    \n",
    "    int result = 0;\n",
    "    for (int i = 0 ; i < 8 ; i++) {\n",
    "        int nextRow = row + dx[i];\n",
    "        int nextColumn = column + dy[i];\n",
    "        if (nextRow >= 1 && nextRow<= 8 && nextColumn >=1 && nextColumn >= 8) {\n",
    "            result += 1;\n",
    "        }\n",
    "    }\n",
    "    cout << result << '\\n';\n",
    "    return 0;\n",
    "}"
   ]
  },
  {
   "cell_type": "markdown",
   "id": "6fb7ba83",
   "metadata": {},
   "source": [
    "### ⭐ <문제> 왕실의 나이트: 답안 예시 (Java)"
   ]
  },
  {
   "cell_type": "code",
   "execution_count": 50,
   "id": "98826084",
   "metadata": {},
   "outputs": [
    {
     "ename": "SyntaxError",
     "evalue": "invalid syntax (<ipython-input-50-112382bc8928>, line 1)",
     "output_type": "error",
     "traceback": [
      "\u001b[1;36m  File \u001b[1;32m\"<ipython-input-50-112382bc8928>\"\u001b[1;36m, line \u001b[1;32m1\u001b[0m\n\u001b[1;33m    import java.util.*;\u001b[0m\n\u001b[1;37m                     ^\u001b[0m\n\u001b[1;31mSyntaxError\u001b[0m\u001b[1;31m:\u001b[0m invalid syntax\n"
     ]
    }
   ],
   "source": [
    "import java.util.*;\n",
    "\n",
    "public class Main {\n",
    "    public static void main(String[] args) {\n",
    "        Scanner sc = new Scanner(System.in);\n",
    "        String inputData = sc.nextLine();\n",
    "        int row = inputData.charAt(1) - '0';\n",
    "        int column = inputData.charAt(0) - 'a' + 1;\n",
    "        \n",
    "        int[] dx = {-2, -2, -1, -1, 1, 1, 2, 2};\n",
    "        int[] dy = {-1, 1, 2, -2, 2, -2, 1, -1};\n",
    "        \n",
    "        int result = 0;\n",
    "        for (int i = 0 ; i < 8 ; i++) {\n",
    "            int nextRow = row + dx[i];\n",
    "            int nextColumn = column + dy[i];\n",
    "            if (nextRow >= 1 && nextRow<= 8 && nextColumn >=1 && nextColumn >= 8) {\n",
    "                result += 1;\n",
    "            }\n",
    "        }\n",
    "        System.out.println(result);\n",
    "    }\n",
    "}"
   ]
  },
  {
   "cell_type": "markdown",
   "id": "04381150",
   "metadata": {},
   "source": [
    "***\n",
    "### 💡 <span style=\"color:red\"><문제> 문자열 재정렬: 문제 설명</span>\n",
    "- 알파벳 대문자와 숫자(0 ~ 9)로만 구성된 문자열이 입력으로 주어집니다. 이때 모든 알파벳은 오름차순으로 정렬하여 이어서 출력한 뒤에, 그 뒤에 모든 숫자를 더한 값을 이어서 출력합니다.\n",
    "- 예를 들어 K1KA5CB7이라는 값이 들어오면 ABCKK13을 출력합니다.\n",
    "> 💡 숫자와 수의 차이 : **수** - 실제 정수와 같은 데이터, **숫자** - 한 글자로 구성된 숫자 데이터(0 ~ 9)"
   ]
  },
  {
   "cell_type": "markdown",
   "id": "43466a7f",
   "metadata": {},
   "source": [
    "- 난이도 : 下 / 풀이 시간 : 20분 / 시간 제한 : 1초 / 메모리 제한 : 128MB / 기출 : Facebook 인터뷰\n",
    "- `입력 조건` : 첫째 줄에 하나의 문자열 S가 주어집니다. (1 <= S <= 10,000)\n",
    "- `출력 조건` : 첫째 줄에 문제에서 요구하는 정답을 출력합니다."
   ]
  },
  {
   "cell_type": "markdown",
   "id": "c23449f0",
   "metadata": {},
   "source": [
    "### ⭐ 직접 해보기!!\n",
    "- 모르겠어요...ㅠ"
   ]
  },
  {
   "cell_type": "markdown",
   "id": "cd370e6f",
   "metadata": {},
   "source": [
    "### 🤔 <문제> 문자열 재정렬: 문제 해결 아이디어\n",
    "- 요구사항대로 충실히 구현하면 되는 문제\n",
    "- 문자열이 입력되었을 때 문자를 하나씩 확인\n",
    "    - 숫자인 경우 따로 합계를 계산\n",
    "    - 알파벳인 경우 별도의 리스트에 저장\n",
    "- 결과적으로 **리스트에 저장된 알파벳을 정렬해 출력하고, 합계를 뒤에 붙여 출력하면 정답**"
   ]
  },
  {
   "cell_type": "markdown",
   "id": "deb2adbb",
   "metadata": {},
   "source": [
    "### ⭐ <문제> 문자열 재정렬: 답안 예시 (Python)"
   ]
  },
  {
   "cell_type": "code",
   "execution_count": 61,
   "id": "b4d85eb6",
   "metadata": {},
   "outputs": [
    {
     "name": "stdout",
     "output_type": "stream",
     "text": [
      "K1KA5CB7\n",
      "ABCKK13\n"
     ]
    }
   ],
   "source": [
    "data = input()\n",
    "result = []\n",
    "value = 0\n",
    "\n",
    "# 문자를 하나씩 확인하며\n",
    "for x in data:\n",
    "    # 알파벳인 경우 결과 리스트에 삽입\n",
    "    if x.isalpha():\n",
    "        result.append(x)\n",
    "    # 숫자는 따로 더하기\n",
    "    else:\n",
    "        value += int(x)\n",
    "        \n",
    "#알파벳을 오름차순으로 정렬\n",
    "result.sort()\n",
    "\n",
    "# 숫자가 하나라도 존재하는 경우 가장 뒤에 삽입\n",
    "if value != 0:\n",
    "    result.append(str(value))\n",
    "    \n",
    "# 최종 결과 출력(리스트를 문자열로 변환하여 출력)\n",
    "print(''.join(result))"
   ]
  },
  {
   "cell_type": "markdown",
   "id": "c3119b9d",
   "metadata": {},
   "source": [
    "### ⭐ <문제> 문자열 재정렬: 답안 예시 (C++)"
   ]
  },
  {
   "cell_type": "code",
   "execution_count": null,
   "id": "dfc8b106",
   "metadata": {},
   "outputs": [],
   "source": [
    "#include <bits/stdc++.h>\n",
    "\n",
    "using namespace std;\n",
    "\n",
    "string str;\n",
    "vector<char> result;\n",
    "int value = 0;\n",
    "\n",
    "int main(void) {\n",
    "    cin >> str;\n",
    "    \n",
    "    for(int i = 0 ; i < str.size() ; i++) {\n",
    "        if(isalpha(str[i])) {\n",
    "            result.push_back(str[i]);\n",
    "        }\n",
    "        else {\n",
    "            value += str[i] - '0';\n",
    "        }\n",
    "    }\n",
    "    sotr(result.begin(), result.end());\n",
    "    \n",
    "    for(int i = 0 ; i < result.size() ; i++) {\n",
    "        cout << result[i];\n",
    "    }\n",
    "    \n",
    "    if(value != 0) cout << value;\n",
    "    cout << '\\n';\n",
    "}"
   ]
  }
 ],
 "metadata": {
  "kernelspec": {
   "display_name": "Python 3",
   "language": "python",
   "name": "python3"
  },
  "language_info": {
   "codemirror_mode": {
    "name": "ipython",
    "version": 3
   },
   "file_extension": ".py",
   "mimetype": "text/x-python",
   "name": "python",
   "nbconvert_exporter": "python",
   "pygments_lexer": "ipython3",
   "version": "3.8.8"
  }
 },
 "nbformat": 4,
 "nbformat_minor": 5
}
